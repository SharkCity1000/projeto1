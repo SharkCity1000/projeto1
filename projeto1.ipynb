{
  "nbformat": 4,
  "nbformat_minor": 0,
  "metadata": {
    "colab": {
      "provenance": [],
      "authorship_tag": "ABX9TyM0PhUcsPtH9oTlnTC4uC8a",
      "include_colab_link": true
    },
    "kernelspec": {
      "name": "python3",
      "display_name": "Python 3"
    },
    "language_info": {
      "name": "python"
    }
  },
  "cells": [
    {
      "cell_type": "markdown",
      "metadata": {
        "id": "view-in-github",
        "colab_type": "text"
      },
      "source": [
        "<a href=\"https://colab.research.google.com/github/SharkCity1000/projeto1/blob/main/projeto1.ipynb\" target=\"_parent\"><img src=\"https://colab.research.google.com/assets/colab-badge.svg\" alt=\"Open In Colab\"/></a>"
      ]
    },
    {
      "cell_type": "markdown",
      "source": [
        "Instalando o SDK do Google"
      ],
      "metadata": {
        "id": "4WbTw-ZdhhSU"
      }
    },
    {
      "cell_type": "code",
      "execution_count": 1,
      "metadata": {
        "id": "jVJGYVY0hXhe"
      },
      "outputs": [],
      "source": [
        "pip install -q -U google-generativeai"
      ]
    },
    {
      "cell_type": "markdown",
      "source": [
        "Importando o SDK"
      ],
      "metadata": {
        "id": "j0bMqOWahycV"
      }
    },
    {
      "cell_type": "code",
      "source": [
        "import google.generativeai as genai\n",
        "from google.colab import userdata\n",
        "api_key = userdata.get('SECRET_KEY')\n",
        "genai.configure(api_key=GOOGLE_API_KEY)"
      ],
      "metadata": {
        "id": "TEIJ16_1hzpk"
      },
      "execution_count": 2,
      "outputs": []
    },
    {
      "cell_type": "markdown",
      "source": [
        "Listar modelos disponíveis"
      ],
      "metadata": {
        "id": "GvYWBqyVh4B8"
      }
    },
    {
      "cell_type": "code",
      "source": [
        "for m in genai.list_models():\n",
        "  if 'generateContent' in m.supported_generation_methods:\n",
        "    print(m.name)"
      ],
      "metadata": {
        "colab": {
          "base_uri": "https://localhost:8080/",
          "height": 144
        },
        "id": "jiBWvQHPh6KV",
        "outputId": "4f8e7064-268a-4fec-ea7c-c28be0e2523b"
      },
      "execution_count": 3,
      "outputs": [
        {
          "output_type": "stream",
          "name": "stdout",
          "text": [
            "models/gemini-1.0-pro\n",
            "models/gemini-1.0-pro-001\n",
            "models/gemini-1.0-pro-latest\n",
            "models/gemini-1.0-pro-vision-latest\n",
            "models/gemini-1.5-pro-latest\n",
            "models/gemini-pro\n",
            "models/gemini-pro-vision\n"
          ]
        }
      ]
    },
    {
      "cell_type": "markdown",
      "source": [
        "configuraçaõ avançada"
      ],
      "metadata": {
        "id": "Ac-Y0ROdjtdg"
      }
    },
    {
      "cell_type": "code",
      "source": [
        "generation_config = {\n",
        "    \"candidate_count\": 1,\n",
        "    \"temperature\": 0.5\n",
        "}"
      ],
      "metadata": {
        "id": "wfdxxGDri64r"
      },
      "execution_count": 4,
      "outputs": []
    },
    {
      "cell_type": "markdown",
      "source": [
        "configuração de segurança"
      ],
      "metadata": {
        "id": "Gw1h19k3jklL"
      }
    },
    {
      "cell_type": "code",
      "source": [
        "safety_settings = {\n",
        "    \"HARASSMENT\": \"BLOCK_NONE\",\n",
        "    \"HATE\":\"BLOCK_NONE\",\n",
        "    \"SEXUAL\": \"BLOCK_NONE\",\n",
        "    \"DANGEROUS\": \"BLOCK_NONE\",\n",
        "}"
      ],
      "metadata": {
        "id": "O5AzYbLqjmAS"
      },
      "execution_count": 5,
      "outputs": []
    },
    {
      "cell_type": "markdown",
      "source": [
        "Inicializando o modelo"
      ],
      "metadata": {
        "id": "81nGFhl3kv5V"
      }
    },
    {
      "cell_type": "code",
      "source": [
        "model = genai.GenerativeModel(model_name=\"gemini-1.0-pro\" ,\n",
        "                              generation_config=generation_config,\n",
        "                              safety_settings=safety_settings)"
      ],
      "metadata": {
        "id": "CDC3eD9wkxQK"
      },
      "execution_count": 6,
      "outputs": []
    },
    {
      "cell_type": "markdown",
      "source": [
        "fazendo imputs"
      ],
      "metadata": {
        "id": "mrXNBxvUl_10"
      }
    },
    {
      "cell_type": "code",
      "source": [
        "response = model.generate_content(\"Vamos aprender sobre IA. Me dê sugestões.\")\n",
        "print(response.text)"
      ],
      "metadata": {
        "colab": {
          "base_uri": "https://localhost:8080/",
          "height": 687
        },
        "id": "vD7w1M5UmBKI",
        "outputId": "2a7dd1e7-e4bc-4ce7-dc76-ff77f57790cb"
      },
      "execution_count": 7,
      "outputs": [
        {
          "output_type": "stream",
          "name": "stdout",
          "text": [
            "**Recursos Online:**\n",
            "\n",
            "* **Coursera:** Cursos de IA da Universidade de Stanford, IBM e Google\n",
            "* **edX:** Cursos de IA do MIT, Harvard e Microsoft\n",
            "* **Udemy:** Cursos de IA para iniciantes e avançados\n",
            "* **YouTube:** Canais como 3Blue1Brown, Siraj Raval e Two Minute Papers oferecem vídeos explicativos sobre IA\n",
            "* **MIT OpenCourseWare:** Cursos gratuitos sobre IA, aprendizado de máquina e ciência de dados\n",
            "\n",
            "**Livros:**\n",
            "\n",
            "* **Inteligência Artificial: Uma Abordagem Moderna (3ª edição)** por Stuart Russell e Peter Norvig\n",
            "* **Aprendizado de Máquina (4ª edição)** por Ethem Alpaydin\n",
            "* **Aprendizado Profundo (2ª edição)** por Ian Goodfellow, Yoshua Bengio e Aaron Courville\n",
            "* **IA para Todos: Uma Introdução Não Técnica** por Mark Bowden\n",
            "* **IA Explicada: Um Guia Simples para Entender Inteligência Artificial** por Demis Hassabis\n",
            "\n",
            "**Grupos de Estudo e Comunidades:**\n",
            "\n",
            "* **Meetup:** Procure grupos locais de IA para networking e aprendizado\n",
            "* **Reddit:** Participe de subreddits como /r/artificialintelligence e /r/machinelearning\n",
            "* **Discord:** Junte-se a servidores Discord dedicados a IA e aprendizado de máquina\n",
            "* **Stack Overflow:** Faça perguntas e obtenha ajuda de especialistas em IA\n",
            "\n",
            "**Projetos Práticos:**\n",
            "\n",
            "* **Kaggle:** Participe de competições de aprendizado de máquina e obtenha feedback de outros\n",
            "* **TensorFlow Playground:** Experimente com modelos de aprendizado de máquina em um ambiente interativo\n",
            "* **OpenAI Gym:** Desenvolva e teste algoritmos de aprendizado de reforço\n",
            "* **GitHub:** Explore repositórios de código aberto relacionados a IA e contribua com projetos\n",
            "\n",
            "**Podcasts:**\n",
            "\n",
            "* **The AI Podcast:** Entrevistas com especialistas em IA\n",
            "* **Machine Learning Podcast:** Discussões sobre os últimos avanços em aprendizado de máquina\n",
            "* **Artificial Intelligence in Plain English:** Explicações simplificadas de conceitos complexos de IA\n",
            "* **This Week in Machine Learning & AI:** Notícias e atualizações sobre IA e aprendizado de máquina\n",
            "* **The Data Science Podcast:** Entrevistas com cientistas de dados e especialistas em IA\n"
          ]
        }
      ]
    },
    {
      "cell_type": "markdown",
      "source": [
        "vamos criar um chatbot"
      ],
      "metadata": {
        "id": "09yzf4zAmoo0"
      }
    },
    {
      "cell_type": "code",
      "source": [
        "chat = model.start_chat(history=[])"
      ],
      "metadata": {
        "id": "ChQZdHqmmq0o"
      },
      "execution_count": 8,
      "outputs": []
    },
    {
      "cell_type": "markdown",
      "source": [
        "inicializar primeira variável"
      ],
      "metadata": {
        "id": "w_BSU1-SnHSX"
      }
    },
    {
      "cell_type": "code",
      "source": [
        "prompt = input(\"Esperando prompt:\")\n",
        "\n",
        "while prompt != \"fim\":\n",
        "  response = chat.send_message(prompt)\n",
        "  print(\"Resposta: \", response.text, \"\\n\")\n",
        "  prompt = input(\"Esperando prompt:\")"
      ],
      "metadata": {
        "colab": {
          "base_uri": "https://localhost:8080/",
          "height": 144
        },
        "id": "jmeHp5mnnKDC",
        "outputId": "561d6db3-2b7e-4624-b418-f5d08d9c3c56"
      },
      "execution_count": 11,
      "outputs": [
        {
          "name": "stdout",
          "output_type": "stream",
          "text": [
            "Esperando prompt:Qual a nacionalidade de um catarinense?\n",
            "Resposta:  Brasileira \n",
            "\n",
            "Esperando prompt:Qual a população de Tubarão?\n",
            "Resposta:  108.864 habitantes (estimativa 2021) \n",
            "\n",
            "Esperando prompt:fim\n"
          ]
        }
      ]
    },
    {
      "cell_type": "markdown",
      "source": [
        "melhorando a visualização"
      ],
      "metadata": {
        "id": "9Syl0ozsp62m"
      }
    },
    {
      "cell_type": "code",
      "source": [
        "# Melhorando a visualização\n",
        "# Código disponível em https://ai.google.dev/tutorials/python_quickstart#import_packages\n",
        "\n",
        "import textwrap\n",
        "from IPython.display import display\n",
        "\n",
        "from IPython.display import Markdown\n",
        "\n",
        "def to_markdown(text):\n",
        "  text = text.replace('°','*')\n",
        "  return Markdown(textwrap.indent(text,'>', predicate=lambda _: True))\n",
        "\n",
        "# Imprimindo o histórico\n",
        "for message in chat.history:\n",
        "\n",
        "    display(to_markdown(f'**{message.role}**: {message.parts[0].text}'))\n",
        "    print('------')\n"
      ],
      "metadata": {
        "colab": {
          "base_uri": "https://localhost:8080/",
          "height": 525
        },
        "id": "GkrdNz9Cp81A",
        "outputId": "e2fc5eb1-de52-4637-b631-e0dcf202dca3"
      },
      "execution_count": 19,
      "outputs": [
        {
          "output_type": "display_data",
          "data": {
            "text/plain": [
              "<IPython.core.display.Markdown object>"
            ],
            "text/markdown": ">**user**: Qual a capital do Japão"
          },
          "metadata": {}
        },
        {
          "output_type": "stream",
          "name": "stdout",
          "text": [
            "------\n"
          ]
        },
        {
          "output_type": "display_data",
          "data": {
            "text/plain": [
              "<IPython.core.display.Markdown object>"
            ],
            "text/markdown": ">**model**: Tóquio"
          },
          "metadata": {}
        },
        {
          "output_type": "stream",
          "name": "stdout",
          "text": [
            "------\n"
          ]
        },
        {
          "output_type": "display_data",
          "data": {
            "text/plain": [
              "<IPython.core.display.Markdown object>"
            ],
            "text/markdown": ">**user**: Qual a comida Típica deste país?"
          },
          "metadata": {}
        },
        {
          "output_type": "stream",
          "name": "stdout",
          "text": [
            "------\n"
          ]
        },
        {
          "output_type": "display_data",
          "data": {
            "text/plain": [
              "<IPython.core.display.Markdown object>"
            ],
            "text/markdown": ">**model**: Sushi"
          },
          "metadata": {}
        },
        {
          "output_type": "stream",
          "name": "stdout",
          "text": [
            "------\n"
          ]
        },
        {
          "output_type": "display_data",
          "data": {
            "text/plain": [
              "<IPython.core.display.Markdown object>"
            ],
            "text/markdown": ">**user**: Qual a nacionalidade de um catarinense?"
          },
          "metadata": {}
        },
        {
          "output_type": "stream",
          "name": "stdout",
          "text": [
            "------\n"
          ]
        },
        {
          "output_type": "display_data",
          "data": {
            "text/plain": [
              "<IPython.core.display.Markdown object>"
            ],
            "text/markdown": ">**model**: Brasileira"
          },
          "metadata": {}
        },
        {
          "output_type": "stream",
          "name": "stdout",
          "text": [
            "------\n"
          ]
        },
        {
          "output_type": "display_data",
          "data": {
            "text/plain": [
              "<IPython.core.display.Markdown object>"
            ],
            "text/markdown": ">**user**: Qual a população de Tubarão?"
          },
          "metadata": {}
        },
        {
          "output_type": "stream",
          "name": "stdout",
          "text": [
            "------\n"
          ]
        },
        {
          "output_type": "display_data",
          "data": {
            "text/plain": [
              "<IPython.core.display.Markdown object>"
            ],
            "text/markdown": ">**model**: 108.864 habitantes (estimativa 2021)"
          },
          "metadata": {}
        },
        {
          "output_type": "stream",
          "name": "stdout",
          "text": [
            "------\n"
          ]
        }
      ]
    }
  ]
}